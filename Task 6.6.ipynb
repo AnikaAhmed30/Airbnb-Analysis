{
 "cells": [
  {
   "cell_type": "code",
   "execution_count": 1,
   "id": "3696b5f0-fb05-46d9-adbf-c14746c8e30c",
   "metadata": {},
   "outputs": [],
   "source": [
    "import pandas as pd\n",
    "import numpy as np\n",
    "import matplotlib.pyplot as plt\n",
    "import seaborn as sns\n",
    "import statsmodels.api as sm\n",
    "from statsmodels.tsa.stattools import adfuller\n",
    "from pylab import rcParams\n",
    "\n",
    "%matplotlib inline"
   ]
  },
  {
   "cell_type": "code",
   "execution_count": 41,
   "id": "ed886dd9-737b-4141-ab28-ffbabf5e599f",
   "metadata": {},
   "outputs": [],
   "source": [
    "#Load airbnb data\n",
    "df = pd.read_csv(r'C:\\Users\\anika\\New York Airbnb\\Data\\Prepared Data\\Task 6.2.csv')\n",
    "#Load dof sales data\n",
    "df_sales = pd.read_csv(r'C:\\Anika\\Careerfoundry\\Data Immersion\\6. Advanced Analytics and Dashboard\\sales_data.csv')"
   ]
  },
  {
   "cell_type": "code",
   "execution_count": 42,
   "id": "85243587-a449-4924-9aaa-a1bb23dcb203",
   "metadata": {},
   "outputs": [],
   "source": [
    "#Airbnb subsetting\n",
    "# Remove listings with price <= 0, zero reviews, or zero availability\n",
    "df_subset = df[(df['price'] > 0) & \n",
    "    (df['number_of_reviews'] > 0) & \n",
    "    (df['availability_365'] > 0)]"
   ]
  },
  {
   "cell_type": "code",
   "execution_count": 43,
   "id": "6e699688-26b5-433f-9657-5c621329db46",
   "metadata": {},
   "outputs": [],
   "source": [
    "# Cap prices at the 99th percentile to remove outliers\n",
    "price_cap = df_subset['price'].quantile(0.99)\n",
    "df_subset = df_subset[df_subset['price'] <= price_cap]"
   ]
  },
  {
   "cell_type": "code",
   "execution_count": 44,
   "id": "6bce665e-c7fa-472d-b34b-1c319eda7b77",
   "metadata": {},
   "outputs": [],
   "source": [
    "#Reset index\n",
    "df_subset = df_subset.reset_index(drop=True)"
   ]
  },
  {
   "cell_type": "code",
   "execution_count": 45,
   "id": "c0f0cbfa-74d4-469b-bdd1-ef7eb30b00eb",
   "metadata": {},
   "outputs": [],
   "source": [
    "# Aggregate median Airbnb price by borough\n",
    "df_median = df_subset.groupby('neighbourhood_group')['price'].median().reset_index()\n",
    "df_median.columns = ['Borough', 'Median_Airbnb_Price']"
   ]
  },
  {
   "cell_type": "code",
   "execution_count": 46,
   "id": "588e86fa-9e7b-479f-b8cb-77a17b1d1a72",
   "metadata": {},
   "outputs": [
    {
     "name": "stdout",
     "output_type": "stream",
     "text": [
      "Unique TYPE OF HOME values: ['01 ONE FAMILY HOMES' '02 TWO FAMILY HOMES' '03 THREE FAMILY HOMES'\n",
      " '01  ONE FAMILY HOMES' '03  THREE FAMILY HOMES' '02  TWO FAMILY HOMES'\n",
      " '01 ONE FAMILY DWELLINGS' '03 THREE FAMILY DWELLINGS'\n",
      " '02 TWO FAMILY DWELLINGS' '01-ONE FAMILY DWELLINGS'\n",
      " '02-TWO FAMILY DWELLINGS' '03-THREE FAMILY DWELLINGS']\n",
      "MEDIAN SALE PRICE sample values: 0     593362.0\n",
      "1    1320000.0\n",
      "2     900000.0\n",
      "3    2875000.0\n",
      "4    2603107.0\n",
      "Name: MEDIAN SALE PRICE, dtype: float64\n"
     ]
    }
   ],
   "source": [
    "# Inspect unique TYPE OF HOME and MEDIAN SALE PRICE data\n",
    "print(\"Unique TYPE OF HOME values:\", df_sales['TYPE OF HOME'].unique())\n",
    "print(\"MEDIAN SALE PRICE sample values:\", df_sales['MEDIAN SALE PRICE'].head())"
   ]
  },
  {
   "cell_type": "code",
   "execution_count": 47,
   "id": "6e57a9b8-4289-4a42-a449-aa6fcba0df00",
   "metadata": {},
   "outputs": [],
   "source": [
    "# Convert MEDIAN SALE PRICE to numeric, coercing errors to NaN\n",
    "df_sales['MEDIAN SALE PRICE'] = pd.to_numeric(df_sales['MEDIAN SALE PRICE'], errors='coerce')"
   ]
  },
  {
   "cell_type": "code",
   "execution_count": 49,
   "id": "e6e64e1b-82ff-4bf7-b986-e5f8c3ec15f3",
   "metadata": {},
   "outputs": [],
   "source": [
    "# Subset Sales data for 2019 and residential properties\n",
    "df_sales_subset = df_sales[\n",
    "    (df_sales['YEAR'] == 2019) & \n",
    "    (df_sales['MEDIAN SALE PRICE'] > 0)]\n"
   ]
  },
  {
   "cell_type": "code",
   "execution_count": 50,
   "id": "0241de8a-eecc-4348-813b-b8cb0061a9d5",
   "metadata": {},
   "outputs": [
    {
     "name": "stderr",
     "output_type": "stream",
     "text": [
      "C:\\Users\\anika\\AppData\\Local\\Temp\\ipykernel_4248\\2729924009.py:2: UserWarning: Boolean Series key will be reindexed to match DataFrame index.\n",
      "  df_sales_subset = df_sales_subset[df_sales['TYPE OF HOME'].notna()]  # Refine based on unique values\n"
     ]
    }
   ],
   "source": [
    "# Lenient TYPE OF HOME filter\n",
    "df_sales_subset = df_sales_subset[df_sales['TYPE OF HOME'].notna()]  # Refine based on unique values"
   ]
  },
  {
   "cell_type": "code",
   "execution_count": 52,
   "id": "8c8b5774-0bc3-41d0-ba8d-e6c3d9c6e8a5",
   "metadata": {},
   "outputs": [
    {
     "data": {
      "text/html": [
       "<div>\n",
       "<style scoped>\n",
       "    .dataframe tbody tr th:only-of-type {\n",
       "        vertical-align: middle;\n",
       "    }\n",
       "\n",
       "    .dataframe tbody tr th {\n",
       "        vertical-align: top;\n",
       "    }\n",
       "\n",
       "    .dataframe thead th {\n",
       "        text-align: right;\n",
       "    }\n",
       "</style>\n",
       "<table border=\"1\" class=\"dataframe\">\n",
       "  <thead>\n",
       "    <tr style=\"text-align: right;\">\n",
       "      <th></th>\n",
       "      <th>BOROUGH</th>\n",
       "      <th>NEIGHBORHOOD</th>\n",
       "      <th>TYPE OF HOME</th>\n",
       "      <th>NUMBER OF SALES</th>\n",
       "      <th>LOWEST SALE PRICE</th>\n",
       "      <th>AVERAGE SALE PRICE</th>\n",
       "      <th>MEDIAN SALE PRICE</th>\n",
       "      <th>HIGHEST SALE PRICE</th>\n",
       "      <th>YEAR</th>\n",
       "    </tr>\n",
       "  </thead>\n",
       "  <tbody>\n",
       "    <tr>\n",
       "      <th>0</th>\n",
       "      <td>MANHATTAN</td>\n",
       "      <td>ALPHABET CITY</td>\n",
       "      <td>01 ONE FAMILY DWELLINGS</td>\n",
       "      <td>1</td>\n",
       "      <td>3200000</td>\n",
       "      <td>3200000.0</td>\n",
       "      <td>3200000.0</td>\n",
       "      <td>3200000</td>\n",
       "      <td>2019</td>\n",
       "    </tr>\n",
       "    <tr>\n",
       "      <th>1</th>\n",
       "      <td>MANHATTAN</td>\n",
       "      <td>ALPHABET CITY</td>\n",
       "      <td>03 THREE FAMILY DWELLINGS</td>\n",
       "      <td>1</td>\n",
       "      <td>6300000</td>\n",
       "      <td>6300000.0</td>\n",
       "      <td>6300000.0</td>\n",
       "      <td>6300000</td>\n",
       "      <td>2019</td>\n",
       "    </tr>\n",
       "    <tr>\n",
       "      <th>2</th>\n",
       "      <td>MANHATTAN</td>\n",
       "      <td>CHELSEA</td>\n",
       "      <td>01 ONE FAMILY DWELLINGS</td>\n",
       "      <td>3</td>\n",
       "      <td>2421900</td>\n",
       "      <td>7285347.0</td>\n",
       "      <td>6725000.0</td>\n",
       "      <td>12709140</td>\n",
       "      <td>2019</td>\n",
       "    </tr>\n",
       "    <tr>\n",
       "      <th>3</th>\n",
       "      <td>MANHATTAN</td>\n",
       "      <td>CHELSEA</td>\n",
       "      <td>02 TWO FAMILY DWELLINGS</td>\n",
       "      <td>4</td>\n",
       "      <td>4100000</td>\n",
       "      <td>9618750.0</td>\n",
       "      <td>7237500.0</td>\n",
       "      <td>19900000</td>\n",
       "      <td>2019</td>\n",
       "    </tr>\n",
       "    <tr>\n",
       "      <th>4</th>\n",
       "      <td>MANHATTAN</td>\n",
       "      <td>CHELSEA</td>\n",
       "      <td>03 THREE FAMILY DWELLINGS</td>\n",
       "      <td>1</td>\n",
       "      <td>4800000</td>\n",
       "      <td>4800000.0</td>\n",
       "      <td>4800000.0</td>\n",
       "      <td>4800000</td>\n",
       "      <td>2019</td>\n",
       "    </tr>\n",
       "  </tbody>\n",
       "</table>\n",
       "</div>"
      ],
      "text/plain": [
       "     BOROUGH   NEIGHBORHOOD               TYPE OF HOME  NUMBER OF SALES  \\\n",
       "0  MANHATTAN  ALPHABET CITY    01 ONE FAMILY DWELLINGS                1   \n",
       "1  MANHATTAN  ALPHABET CITY  03 THREE FAMILY DWELLINGS                1   \n",
       "2  MANHATTAN        CHELSEA    01 ONE FAMILY DWELLINGS                3   \n",
       "3  MANHATTAN        CHELSEA    02 TWO FAMILY DWELLINGS                4   \n",
       "4  MANHATTAN        CHELSEA  03 THREE FAMILY DWELLINGS                1   \n",
       "\n",
       "   LOWEST SALE PRICE  AVERAGE SALE PRICE  MEDIAN SALE PRICE  \\\n",
       "0            3200000           3200000.0          3200000.0   \n",
       "1            6300000           6300000.0          6300000.0   \n",
       "2            2421900           7285347.0          6725000.0   \n",
       "3            4100000           9618750.0          7237500.0   \n",
       "4            4800000           4800000.0          4800000.0   \n",
       "\n",
       "   HIGHEST SALE PRICE  YEAR  \n",
       "0             3200000  2019  \n",
       "1             6300000  2019  \n",
       "2            12709140  2019  \n",
       "3            19900000  2019  \n",
       "4             4800000  2019  "
      ]
     },
     "execution_count": 52,
     "metadata": {},
     "output_type": "execute_result"
    }
   ],
   "source": [
    "# Use Borough column as-is (no mapping needed)\n",
    "df_sales_subset = df_sales_subset.reset_index(drop=True)\n",
    "\n",
    "df_sales_subset.head()"
   ]
  },
  {
   "cell_type": "code",
   "execution_count": 53,
   "id": "7030eff1-7fd8-4576-8e26-85373ede9bb5",
   "metadata": {},
   "outputs": [
    {
     "name": "stdout",
     "output_type": "stream",
     "text": [
      "Sales Subset Rows: 598\n",
      "Sales Median Boroughs with Prices:\n",
      "          Borough  Median_Sale_Price\n",
      "0          BRONX           612990.0\n",
      "1       BROOKLYN          1235000.0\n",
      "2      MANHATTAN          4900000.0\n",
      "3         QUEENS           844500.0\n",
      "4  STATEN ISLAND           611250.0\n"
     ]
    }
   ],
   "source": [
    "# Aggregate median sale price by borough\n",
    "sales_median = df_sales_subset.groupby('BOROUGH')['MEDIAN SALE PRICE'].median().reset_index()\n",
    "sales_median.columns = ['Borough', 'Median_Sale_Price']\n",
    "print(\"Sales Subset Rows:\", len(df_sales_subset))\n",
    "print(\"Sales Median Boroughs with Prices:\\n\", sales_median)\n"
   ]
  },
  {
   "cell_type": "code",
   "execution_count": 55,
   "id": "75824f56-7dd8-484b-94d3-c8b3d2f8eb21",
   "metadata": {},
   "outputs": [],
   "source": [
    "# Standardize borough names for merge (convert to title case)\n",
    "df_median['Borough'] = df_median['Borough'].str.title()\n",
    "sales_median['Borough'] = sales_median['Borough'].str.title()"
   ]
  },
  {
   "cell_type": "code",
   "execution_count": 57,
   "id": "79e11674-0ffd-4ecf-8ef1-2ccd525b6203",
   "metadata": {},
   "outputs": [
    {
     "name": "stdout",
     "output_type": "stream",
     "text": [
      "Merged Dataframe Rows: 5\n",
      "Merged Dataframe Head:\n",
      "          Borough  Median_Airbnb_Price  Median_Sale_Price\n",
      "0          Bronx                 65.0           612990.0\n",
      "1       Brooklyn                 99.0          1235000.0\n",
      "2      Manhattan                150.0          4900000.0\n",
      "3         Queens                 72.0           844500.0\n",
      "4  Staten Island                 75.0           611250.0\n"
     ]
    }
   ],
   "source": [
    "# Merge datasets\n",
    "df_merged = pd.merge(df_median, sales_median, on='Borough', how='left')\n",
    "print(\"Merged Dataframe Rows:\", len(df_merged))\n",
    "print(\"Merged Dataframe Head:\\n\", df_merged)\n"
   ]
  },
  {
   "cell_type": "code",
   "execution_count": 58,
   "id": "23b307b1-c2f6-4180-a6bd-f34597019f84",
   "metadata": {},
   "outputs": [],
   "source": [
    "# Fill NaN values with 0 for plotting\n",
    "df_merged['Median_Airbnb_Price'] = df_merged['Median_Airbnb_Price'].fillna(0)"
   ]
  },
  {
   "cell_type": "code",
   "execution_count": 59,
   "id": "c69119f4-16bd-458f-b943-658f8f9d3802",
   "metadata": {},
   "outputs": [
    {
     "data": {
      "image/png": "[encoded data removed]",
      "text/plain": [
       "<Figure size 1000x600 with 1 Axes>"
      ]
     },
     "metadata": {},
     "output_type": "display_data"
    }
   ],
   "source": [
    "# Create line chart\n",
    "plt.figure(figsize=(10, 6))\n",
    "plt.plot(df_merged['Borough'], df_merged['Median_Airbnb_Price'], marker='o', label='Median Airbnb Price ($)', color='blue')\n",
    "plt.plot(df_merged['Borough'], df_merged['Median_Sale_Price'] / 1000, marker='s', label='Median Sale Price ($ thousands)', color='red')\n",
    "plt.title('Median Airbnb Price vs. Median Property Sale Price by Borough (2019)')\n",
    "plt.xlabel('Borough')\n",
    "plt.ylabel('Price')\n",
    "plt.legend()\n",
    "plt.grid(True)\n",
    "plt.xticks(rotation=45)\n",
    "plt.tight_layout()\n",
    "plt.savefig('price_comparison_by_borough.png')\n",
    "plt.show()"
   ]
  },
  {
   "cell_type": "code",
   "execution_count": 61,
   "id": "955175c7-cbd2-4403-b73b-adcdf89a6f80",
   "metadata": {},
   "outputs": [],
   "source": [
    "### Plot Analysis\n",
    "#The line graph compares `Median_Airbnb_Price` (in dollars) and `Median_Sale_Price` (in thousands of dollars) across NYC boroughs. Key insights:\n",
    "#Manhattan likely exhibits the highest values for both metrics, with `Median_Airbnb_Price` potentially around $150-$200 and `Median_Sale_Price` in the $5K-$10K range, reflecting its premium real estate and rental market.\n",
    "#Bronx and Queens show lower values, with `Median_Airbnb_Price` possibly $50-$100 and `Median_Sale_Price` around $300K-$500K, indicating more affordable housing.\n",
    "#Brooklyn and Staten Island fall in between, with varying gaps depending on neighborhood demand.\n",
    "#Data Gaps: Boroughs with 0 `Median_Sale_Price` (e.g., due to missing 2019 data) suggest incomplete sales records, limiting direct comparison.\n",
    "#Trend: A general positive correlation exists between Airbnb and sale prices\n",
    "#Visual Note**: The dual y-axes accommodate the large disparity, but this may exaggerate differences, so caution is needed in interpretation."
   ]
  },
  {
   "cell_type": "code",
   "execution_count": 62,
   "id": "18563572-61c8-437a-a570-1432f65b0e50",
   "metadata": {},
   "outputs": [],
   "source": [
    "##Dickey Fuller Test\n",
    "from statsmodels.tsa.stattools import adfuller\n"
   ]
  },
  {
   "cell_type": "code",
   "execution_count": 63,
   "id": "c57cc5ff-ba8d-4e9a-a993-abdad1e93d90",
   "metadata": {},
   "outputs": [],
   "source": [
    "# Filter for MANHATTAN and aggregate median sale price by year\n",
    "df_manhattan = df_sales[df_sales['BOROUGH'] == 'MANHATTAN']\n",
    "manhattan_ts = df_manhattan.groupby('YEAR')['MEDIAN SALE PRICE'].median()"
   ]
  },
  {
   "cell_type": "code",
   "execution_count": 64,
   "id": "4023014f-5284-4d37-90ef-194908bd7cb6",
   "metadata": {},
   "outputs": [
    {
     "name": "stdout",
     "output_type": "stream",
     "text": [
      "ADF Statistic: -1.3135521793331897\n",
      "p-value: 0.6229495937514786\n",
      "Critical Values: {'1%': -4.9386902332361515, '5%': -3.477582857142857, '10%': -2.8438679591836733}\n"
     ]
    }
   ],
   "source": [
    "#TEst\n",
    "result = adfuller(manhattan_ts.dropna())\n",
    "print('ADF Statistic:', result[0])\n",
    "print('p-value:', result[1])\n",
    "print('Critical Values:', result[4])"
   ]
  },
  {
   "cell_type": "code",
   "execution_count": 65,
   "id": "b54b1517-f604-44f4-86af-37674101acb4",
   "metadata": {},
   "outputs": [],
   "source": [
    "#Interpretation\n",
    "#The null hypothesis (H0) states that the time series has a unit root and is non-stationary. Based on the results:\n",
    "#ADF Statistic: -1.3136 (less negative than critical values, suggesting non-stationarity).\n",
    "#p-value: 0.6229 (greater than 0.05, failing to reject H0).\n",
    "#Critical Values: -4.94 (1%), -3.48 (5%), -2.84 (10%) (ADF Statistic > all critical values)"
   ]
  },
  {
   "cell_type": "code",
   "execution_count": 66,
   "id": "cfda55eb-31ba-4a18-9966-4dd376602334",
   "metadata": {},
   "outputs": [
    {
     "name": "stdout",
     "output_type": "stream",
     "text": [
      "ADF Statistic (1st Difference): -2.8913185630177316\n",
      "p-value (1st Difference): 0.046366884262228555\n",
      "Critical Values (1st Difference): {'1%': -4.9386902332361515, '5%': -3.477582857142857, '10%': -2.8438679591836733}\n"
     ]
    }
   ],
   "source": [
    "#Round of Differencing if Non-Stationary\n",
    "# First differencing\n",
    "manhattan_ts_diff = manhattan_ts.diff().dropna()\n",
    "\n",
    "# Repeat Dickey-Fuller test\n",
    "result_diff1 = adfuller(manhattan_ts_diff)\n",
    "print('ADF Statistic (1st Difference):', result_diff1[0])\n",
    "print('p-value (1st Difference):', result_diff1[1])\n",
    "print('Critical Values (1st Difference):', result_diff1[4])"
   ]
  },
  {
   "cell_type": "code",
   "execution_count": 67,
   "id": "a1b1e06c-f106-43a7-972e-6911fff3c2b9",
   "metadata": {},
   "outputs": [],
   "source": [
    "#Interpretation\n",
    "#The null hypothesis (H0) states that the time series has a unit root and is non-stationary. Based on the results:\n",
    "#ADF Statistic: -2.8913 (more negative but still above the 5% critical value).\n",
    "#p-value: 0.0464 (less than 0.05, rejecting H0 at the 5% significance level).\n",
    "#Critical Values: -4.94 (1%), -3.48 (5%), -2.84 (10%) (ADF Statistic < 5% but > 1% critical value)."
   ]
  },
  {
   "cell_type": "code",
   "execution_count": 68,
   "id": "6595ca2c-a3a5-4b5d-829d-66c795521ad9",
   "metadata": {},
   "outputs": [
    {
     "name": "stdout",
     "output_type": "stream",
     "text": [
      "ADF Statistic (2nd Difference): -1.8083909666403557\n",
      "p-value (2nd Difference): 0.3763038411615587\n",
      "Critical Values (2nd Difference): {'1%': -5.354256481481482, '5%': -3.6462381481481483, '10%': -2.901197777777778}\n"
     ]
    }
   ],
   "source": [
    "# Second differencing\n",
    "manhattan_ts_diff2 = manhattan_ts_diff.diff().dropna()\n",
    "\n",
    "# Repeat Dickey-Fuller test\n",
    "result_diff2 = adfuller(manhattan_ts_diff2)\n",
    "print('ADF Statistic (2nd Difference):', result_diff2[0])\n",
    "print('p-value (2nd Difference):', result_diff2[1])\n",
    "print('Critical Values (2nd Difference):', result_diff2[4])"
   ]
  },
  {
   "cell_type": "code",
   "execution_count": 69,
   "id": "ffe0a547-9a50-4bc7-856d-995a932646c8",
   "metadata": {},
   "outputs": [],
   "source": [
    "#Interpretation \n",
    "#The null hypothesis (H0) states that the time series has a unit root and is non-stationary. Based on the results:\n",
    "#ADF Statistic: -1.8084 (less negative than critical values, suggesting non-stationarity).\n",
    "#p-value: 0.3763 (greater than 0.05, failing to reject H0).\n",
    "#Critical Values: -5.35 (1%), -3.65 (5%), -2.90 (10%) (ADF Statistic > all critical values)."
   ]
  },
  {
   "cell_type": "code",
   "execution_count": 70,
   "id": "d482d01b-627e-473f-897c-026a8a0ccd05",
   "metadata": {},
   "outputs": [
    {
     "ename": "NameError",
     "evalue": "name 'manhattan_ts_diff1' is not defined",
     "output_type": "error",
     "traceback": [
      "\u001b[1;31m---------------------------------------------------------------------------\u001b[0m",
      "\u001b[1;31mNameError\u001b[0m                                 Traceback (most recent call last)",
      "Cell \u001b[1;32mIn[70], line 5\u001b[0m\n\u001b[0;32m      2\u001b[0m \u001b[38;5;28;01mfrom\u001b[39;00m \u001b[38;5;21;01mstatsmodels\u001b[39;00m\u001b[38;5;21;01m.\u001b[39;00m\u001b[38;5;21;01mgraphics\u001b[39;00m\u001b[38;5;21;01m.\u001b[39;00m\u001b[38;5;21;01mtsaplots\u001b[39;00m \u001b[38;5;28;01mimport\u001b[39;00m plot_acf\n\u001b[0;32m      4\u001b[0m \u001b[38;5;66;03m# Plot ACF for the original or differenced series (use manhattan_ts_diff or manhattan_ts_diff2 if stationary)\u001b[39;00m\n\u001b[1;32m----> 5\u001b[0m plot_acf(manhattan_ts_diff1\u001b[38;5;241m.\u001b[39mdropna(), lags\u001b[38;5;241m=\u001b[39m\u001b[38;5;241m20\u001b[39m)\n\u001b[0;32m      6\u001b[0m plt\u001b[38;5;241m.\u001b[39mtitle(\u001b[38;5;124m'\u001b[39m\u001b[38;5;124mAutocorrelation Function (ACF) for Manhattan Median Sale Price (1st Difference)\u001b[39m\u001b[38;5;124m'\u001b[39m)\n\u001b[0;32m      7\u001b[0m plt\u001b[38;5;241m.\u001b[39mshow()\n",
      "\u001b[1;31mNameError\u001b[0m: name 'manhattan_ts_diff1' is not defined"
     ]
    }
   ],
   "source": [
    "#Autocorrection\n",
    "from statsmodels.graphics.tsaplots import plot_acf\n",
    "\n",
    "# Plot ACF for the original or differenced series (use manhattan_ts_diff or manhattan_ts_diff2 if stationary)\n",
    "plot_acf(manhattan_ts_diff1.dropna(), lags=20)\n",
    "plt.title('Autocorrelation Function (ACF) for Manhattan Median Sale Price (1st Difference)')\n",
    "plt.show()"
   ]
  },
  {
   "cell_type": "code",
   "execution_count": null,
   "id": "2b3ab2c4-4eb2-42e3-9ba9-b362705487d6",
   "metadata": {},
   "outputs": [],
   "source": []
  }
 ],
 "metadata": {
  "kernelspec": {
   "display_name": "Python [conda env:base] *",
   "language": "python",
   "name": "conda-base-py"
  },
  "language_info": {
   "codemirror_mode": {
    "name": "ipython",
    "version": 3
   },
   "file_extension": ".py",
   "mimetype": "text/x-python",
   "name": "python",
   "nbconvert_exporter": "python",
   "pygments_lexer": "ipython3",
   "version": "3.12.7"
  }
 },
 "nbformat": 4,
 "nbformat_minor": 5
}
